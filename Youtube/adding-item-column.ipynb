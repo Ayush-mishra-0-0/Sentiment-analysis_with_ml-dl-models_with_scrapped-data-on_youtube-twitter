{
 "cells": [
  {
   "cell_type": "code",
   "execution_count": 1,
   "metadata": {},
   "outputs": [],
   "source": [
    "import pandas as pd"
   ]
  },
  {
   "cell_type": "code",
   "execution_count": 2,
   "metadata": {},
   "outputs": [],
   "source": [
    "df= pd.read_csv('Youtube_scrapping_comments.csv')"
   ]
  },
  {
   "cell_type": "code",
   "execution_count": 3,
   "metadata": {},
   "outputs": [
    {
     "data": {
      "text/html": [
       "<div>\n",
       "<style scoped>\n",
       "    .dataframe tbody tr th:only-of-type {\n",
       "        vertical-align: middle;\n",
       "    }\n",
       "\n",
       "    .dataframe tbody tr th {\n",
       "        vertical-align: top;\n",
       "    }\n",
       "\n",
       "    .dataframe thead th {\n",
       "        text-align: right;\n",
       "    }\n",
       "</style>\n",
       "<table border=\"1\" class=\"dataframe\">\n",
       "  <thead>\n",
       "    <tr style=\"text-align: right;\">\n",
       "      <th></th>\n",
       "      <th>Video Link</th>\n",
       "      <th>Video Title</th>\n",
       "      <th>Cleaned_Comments</th>\n",
       "      <th>item</th>\n",
       "    </tr>\n",
       "  </thead>\n",
       "  <tbody>\n",
       "    <tr>\n",
       "      <th>0</th>\n",
       "      <td>https://www.youtube.com/watch?v=F1pUDSue8mQ&amp;pp...</td>\n",
       "      <td>World leaders arrive at the Bharat Mandapam in...</td>\n",
       "      <td>@mjfansumit - I proud that at this event I wor...</td>\n",
       "      <td>G20 2023</td>\n",
       "    </tr>\n",
       "    <tr>\n",
       "      <th>1</th>\n",
       "      <td>https://www.youtube.com/watch?v=X8rM829c7to&amp;pp...</td>\n",
       "      <td>PM Modi addresses The Hindustan Times Leadersh...</td>\n",
       "      <td>@priyachattaraj9926 - I proud of you modi sir ...</td>\n",
       "      <td>G20 2023</td>\n",
       "    </tr>\n",
       "    <tr>\n",
       "      <th>2</th>\n",
       "      <td>https://www.youtube.com/watch?v=dbgGV5-TrdE&amp;pp...</td>\n",
       "      <td>India's Big Win at G20 Summit: G20 New Delhi L...</td>\n",
       "      <td>- प्रश्न. G20 की स्थापना किस वर्ष हुई?\\n\\na. ...</td>\n",
       "      <td>G20 2023</td>\n",
       "    </tr>\n",
       "    <tr>\n",
       "      <th>3</th>\n",
       "      <td>https://www.youtube.com/watch?v=G_O8ogCpbRI&amp;pp...</td>\n",
       "      <td>G-4 | G-6 | G-7 | G-8 | G-10 | G-11 | G-20 | D...</td>\n",
       "      <td>@mukundrajan8961 - The list of invitees / part...</td>\n",
       "      <td>G20 2023</td>\n",
       "    </tr>\n",
       "    <tr>\n",
       "      <th>4</th>\n",
       "      <td>https://www.youtube.com/watch?v=Lf-hYTjapiw&amp;pp...</td>\n",
       "      <td>Turkish Parliament Boycotts Coca Cola and Nest...</td>\n",
       "      <td>@DhimanBharadwaj - Very much proud to see Bhar...</td>\n",
       "      <td>G20 2023</td>\n",
       "    </tr>\n",
       "  </tbody>\n",
       "</table>\n",
       "</div>"
      ],
      "text/plain": [
       "                                          Video Link  \\\n",
       "0  https://www.youtube.com/watch?v=F1pUDSue8mQ&pp...   \n",
       "1  https://www.youtube.com/watch?v=X8rM829c7to&pp...   \n",
       "2  https://www.youtube.com/watch?v=dbgGV5-TrdE&pp...   \n",
       "3  https://www.youtube.com/watch?v=G_O8ogCpbRI&pp...   \n",
       "4  https://www.youtube.com/watch?v=Lf-hYTjapiw&pp...   \n",
       "\n",
       "                                         Video Title  \\\n",
       "0  World leaders arrive at the Bharat Mandapam in...   \n",
       "1  PM Modi addresses The Hindustan Times Leadersh...   \n",
       "2  India's Big Win at G20 Summit: G20 New Delhi L...   \n",
       "3  G-4 | G-6 | G-7 | G-8 | G-10 | G-11 | G-20 | D...   \n",
       "4  Turkish Parliament Boycotts Coca Cola and Nest...   \n",
       "\n",
       "                                    Cleaned_Comments      item  \n",
       "0  @mjfansumit - I proud that at this event I wor...  G20 2023  \n",
       "1  @priyachattaraj9926 - I proud of you modi sir ...  G20 2023  \n",
       "2   - प्रश्न. G20 की स्थापना किस वर्ष हुई?\\n\\na. ...  G20 2023  \n",
       "3  @mukundrajan8961 - The list of invitees / part...  G20 2023  \n",
       "4  @DhimanBharadwaj - Very much proud to see Bhar...  G20 2023  "
      ]
     },
     "execution_count": 3,
     "metadata": {},
     "output_type": "execute_result"
    }
   ],
   "source": [
    "df.head()"
   ]
  },
  {
   "cell_type": "code",
   "execution_count": 4,
   "metadata": {},
   "outputs": [],
   "source": [
    "df1= pd.read_csv('Links.csv')"
   ]
  },
  {
   "cell_type": "code",
   "execution_count": 10,
   "metadata": {},
   "outputs": [
    {
     "data": {
      "text/plain": [
       "(89, 3)"
      ]
     },
     "execution_count": 10,
     "metadata": {},
     "output_type": "execute_result"
    }
   ],
   "source": [
    "df1.shape"
   ]
  },
  {
   "cell_type": "code",
   "execution_count": 9,
   "metadata": {},
   "outputs": [
    {
     "data": {
      "text/html": [
       "<div>\n",
       "<style scoped>\n",
       "    .dataframe tbody tr th:only-of-type {\n",
       "        vertical-align: middle;\n",
       "    }\n",
       "\n",
       "    .dataframe tbody tr th {\n",
       "        vertical-align: top;\n",
       "    }\n",
       "\n",
       "    .dataframe thead th {\n",
       "        text-align: right;\n",
       "    }\n",
       "</style>\n",
       "<table border=\"1\" class=\"dataframe\">\n",
       "  <thead>\n",
       "    <tr style=\"text-align: right;\">\n",
       "      <th></th>\n",
       "      <th>Video Link</th>\n",
       "      <th>Video Title</th>\n",
       "      <th>Item</th>\n",
       "      <th>Cleaned_Comments</th>\n",
       "      <th>item</th>\n",
       "    </tr>\n",
       "  </thead>\n",
       "  <tbody>\n",
       "    <tr>\n",
       "      <th>0</th>\n",
       "      <td>https://www.youtube.com/watch?v=F1pUDSue8mQ&amp;pp...</td>\n",
       "      <td>World leaders arrive at the Bharat Mandapam in...</td>\n",
       "      <td>NaN</td>\n",
       "      <td>@mjfansumit - I proud that at this event I wor...</td>\n",
       "      <td>G20 2023</td>\n",
       "    </tr>\n",
       "    <tr>\n",
       "      <th>1</th>\n",
       "      <td>https://www.youtube.com/watch?v=X8rM829c7to&amp;pp...</td>\n",
       "      <td>PM Modi addresses The Hindustan Times Leadersh...</td>\n",
       "      <td>NaN</td>\n",
       "      <td>@priyachattaraj9926 - I proud of you modi sir ...</td>\n",
       "      <td>G20 2023</td>\n",
       "    </tr>\n",
       "    <tr>\n",
       "      <th>2</th>\n",
       "      <td>https://www.youtube.com/watch?v=dbgGV5-TrdE&amp;pp...</td>\n",
       "      <td>India's Big Win at G20 Summit: G20 New Delhi L...</td>\n",
       "      <td>NaN</td>\n",
       "      <td>- प्रश्न. G20 की स्थापना किस वर्ष हुई?\\n\\na. ...</td>\n",
       "      <td>G20 2023</td>\n",
       "    </tr>\n",
       "    <tr>\n",
       "      <th>3</th>\n",
       "      <td>https://www.youtube.com/watch?v=G_O8ogCpbRI&amp;pp...</td>\n",
       "      <td>G-4 | G-6 | G-7 | G-8 | G-10 | G-11 | G-20 | D...</td>\n",
       "      <td>NaN</td>\n",
       "      <td>@mukundrajan8961 - The list of invitees / part...</td>\n",
       "      <td>G20 2023</td>\n",
       "    </tr>\n",
       "    <tr>\n",
       "      <th>4</th>\n",
       "      <td>https://www.youtube.com/watch?v=Lf-hYTjapiw&amp;pp...</td>\n",
       "      <td>Turkish Parliament Boycotts Coca Cola and Nest...</td>\n",
       "      <td>NaN</td>\n",
       "      <td>@DhimanBharadwaj - Very much proud to see Bhar...</td>\n",
       "      <td>G20 2023</td>\n",
       "    </tr>\n",
       "  </tbody>\n",
       "</table>\n",
       "</div>"
      ],
      "text/plain": [
       "                                          Video Link  \\\n",
       "0  https://www.youtube.com/watch?v=F1pUDSue8mQ&pp...   \n",
       "1  https://www.youtube.com/watch?v=X8rM829c7to&pp...   \n",
       "2  https://www.youtube.com/watch?v=dbgGV5-TrdE&pp...   \n",
       "3  https://www.youtube.com/watch?v=G_O8ogCpbRI&pp...   \n",
       "4  https://www.youtube.com/watch?v=Lf-hYTjapiw&pp...   \n",
       "\n",
       "                                         Video Title  Item  \\\n",
       "0  World leaders arrive at the Bharat Mandapam in...   NaN   \n",
       "1  PM Modi addresses The Hindustan Times Leadersh...   NaN   \n",
       "2  India's Big Win at G20 Summit: G20 New Delhi L...   NaN   \n",
       "3  G-4 | G-6 | G-7 | G-8 | G-10 | G-11 | G-20 | D...   NaN   \n",
       "4  Turkish Parliament Boycotts Coca Cola and Nest...   NaN   \n",
       "\n",
       "                                    Cleaned_Comments      item  \n",
       "0  @mjfansumit - I proud that at this event I wor...  G20 2023  \n",
       "1  @priyachattaraj9926 - I proud of you modi sir ...  G20 2023  \n",
       "2   - प्रश्न. G20 की स्थापना किस वर्ष हुई?\\n\\na. ...  G20 2023  \n",
       "3  @mukundrajan8961 - The list of invitees / part...  G20 2023  \n",
       "4  @DhimanBharadwaj - Very much proud to see Bhar...  G20 2023  "
      ]
     },
     "execution_count": 9,
     "metadata": {},
     "output_type": "execute_result"
    }
   ],
   "source": [
    "# add item column of df1 to df\n",
    "df['item']= df1['Item']\n",
    "df.head()"
   ]
  },
  {
   "cell_type": "code",
   "execution_count": 12,
   "metadata": {},
   "outputs": [],
   "source": [
    "df.drop(columns='Item', inplace=True)"
   ]
  },
  {
   "cell_type": "code",
   "execution_count": 13,
   "metadata": {},
   "outputs": [
    {
     "data": {
      "text/html": [
       "<div>\n",
       "<style scoped>\n",
       "    .dataframe tbody tr th:only-of-type {\n",
       "        vertical-align: middle;\n",
       "    }\n",
       "\n",
       "    .dataframe tbody tr th {\n",
       "        vertical-align: top;\n",
       "    }\n",
       "\n",
       "    .dataframe thead th {\n",
       "        text-align: right;\n",
       "    }\n",
       "</style>\n",
       "<table border=\"1\" class=\"dataframe\">\n",
       "  <thead>\n",
       "    <tr style=\"text-align: right;\">\n",
       "      <th></th>\n",
       "      <th>Video Link</th>\n",
       "      <th>Video Title</th>\n",
       "      <th>Cleaned_Comments</th>\n",
       "      <th>item</th>\n",
       "    </tr>\n",
       "  </thead>\n",
       "  <tbody>\n",
       "    <tr>\n",
       "      <th>0</th>\n",
       "      <td>https://www.youtube.com/watch?v=F1pUDSue8mQ&amp;pp...</td>\n",
       "      <td>World leaders arrive at the Bharat Mandapam in...</td>\n",
       "      <td>@mjfansumit - I proud that at this event I wor...</td>\n",
       "      <td>G20 2023</td>\n",
       "    </tr>\n",
       "    <tr>\n",
       "      <th>1</th>\n",
       "      <td>https://www.youtube.com/watch?v=X8rM829c7to&amp;pp...</td>\n",
       "      <td>PM Modi addresses The Hindustan Times Leadersh...</td>\n",
       "      <td>@priyachattaraj9926 - I proud of you modi sir ...</td>\n",
       "      <td>G20 2023</td>\n",
       "    </tr>\n",
       "    <tr>\n",
       "      <th>2</th>\n",
       "      <td>https://www.youtube.com/watch?v=dbgGV5-TrdE&amp;pp...</td>\n",
       "      <td>India's Big Win at G20 Summit: G20 New Delhi L...</td>\n",
       "      <td>- प्रश्न. G20 की स्थापना किस वर्ष हुई?\\n\\na. ...</td>\n",
       "      <td>G20 2023</td>\n",
       "    </tr>\n",
       "    <tr>\n",
       "      <th>3</th>\n",
       "      <td>https://www.youtube.com/watch?v=G_O8ogCpbRI&amp;pp...</td>\n",
       "      <td>G-4 | G-6 | G-7 | G-8 | G-10 | G-11 | G-20 | D...</td>\n",
       "      <td>@mukundrajan8961 - The list of invitees / part...</td>\n",
       "      <td>G20 2023</td>\n",
       "    </tr>\n",
       "    <tr>\n",
       "      <th>4</th>\n",
       "      <td>https://www.youtube.com/watch?v=Lf-hYTjapiw&amp;pp...</td>\n",
       "      <td>Turkish Parliament Boycotts Coca Cola and Nest...</td>\n",
       "      <td>@DhimanBharadwaj - Very much proud to see Bhar...</td>\n",
       "      <td>G20 2023</td>\n",
       "    </tr>\n",
       "  </tbody>\n",
       "</table>\n",
       "</div>"
      ],
      "text/plain": [
       "                                          Video Link  \\\n",
       "0  https://www.youtube.com/watch?v=F1pUDSue8mQ&pp...   \n",
       "1  https://www.youtube.com/watch?v=X8rM829c7to&pp...   \n",
       "2  https://www.youtube.com/watch?v=dbgGV5-TrdE&pp...   \n",
       "3  https://www.youtube.com/watch?v=G_O8ogCpbRI&pp...   \n",
       "4  https://www.youtube.com/watch?v=Lf-hYTjapiw&pp...   \n",
       "\n",
       "                                         Video Title  \\\n",
       "0  World leaders arrive at the Bharat Mandapam in...   \n",
       "1  PM Modi addresses The Hindustan Times Leadersh...   \n",
       "2  India's Big Win at G20 Summit: G20 New Delhi L...   \n",
       "3  G-4 | G-6 | G-7 | G-8 | G-10 | G-11 | G-20 | D...   \n",
       "4  Turkish Parliament Boycotts Coca Cola and Nest...   \n",
       "\n",
       "                                    Cleaned_Comments      item  \n",
       "0  @mjfansumit - I proud that at this event I wor...  G20 2023  \n",
       "1  @priyachattaraj9926 - I proud of you modi sir ...  G20 2023  \n",
       "2   - प्रश्न. G20 की स्थापना किस वर्ष हुई?\\n\\na. ...  G20 2023  \n",
       "3  @mukundrajan8961 - The list of invitees / part...  G20 2023  \n",
       "4  @DhimanBharadwaj - Very much proud to see Bhar...  G20 2023  "
      ]
     },
     "execution_count": 13,
     "metadata": {},
     "output_type": "execute_result"
    }
   ],
   "source": [
    "df.head()"
   ]
  },
  {
   "cell_type": "code",
   "execution_count": 14,
   "metadata": {},
   "outputs": [],
   "source": [
    "df.to_csv('Youtube_scrapping_comments.csv', index=False)"
   ]
  },
  {
   "cell_type": "code",
   "execution_count": 15,
   "metadata": {},
   "outputs": [
    {
     "data": {
      "text/plain": [
       "(49, 4)"
      ]
     },
     "execution_count": 15,
     "metadata": {},
     "output_type": "execute_result"
    }
   ],
   "source": [
    "df.shape"
   ]
  },
  {
   "cell_type": "code",
   "execution_count": null,
   "metadata": {},
   "outputs": [],
   "source": []
  }
 ],
 "metadata": {
  "kernelspec": {
   "display_name": "Python 3 (ipykernel)",
   "language": "python",
   "name": "python3"
  },
  "language_info": {
   "codemirror_mode": {
    "name": "ipython",
    "version": 3
   },
   "file_extension": ".py",
   "mimetype": "text/x-python",
   "name": "python",
   "nbconvert_exporter": "python",
   "pygments_lexer": "ipython3",
   "version": "3.11.5"
  }
 },
 "nbformat": 4,
 "nbformat_minor": 2
}
